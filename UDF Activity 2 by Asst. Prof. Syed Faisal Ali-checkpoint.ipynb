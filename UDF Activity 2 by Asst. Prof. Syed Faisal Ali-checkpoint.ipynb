{
 "cells": [
  {
   "cell_type": "markdown",
   "metadata": {},
   "source": [
    "# Python User Define Function Practice Activity - 2 "
   ]
  },
  {
   "cell_type": "markdown",
   "metadata": {},
   "source": [
    "Asst. Prof. Syed Faisal Ali              $\\;\\;\\;\\;\\;\\;$              Programming Fundamentals - FALL 2019 $\\;\\;\\;\\;\\;\\;$ Software Engineering                     $\\;\\;\\;\\;\\;\\;$                   Dated: 27 Nov 2019"
   ]
  },
  {
   "cell_type": "markdown",
   "metadata": {},
   "source": [
    "Question 1: Create a function to find the following:\n",
    "If the base of triangle is 3 cm long and its equilateral triangle and the radius of circle is 1.5 cm then find the area of triangle shaded. \n"
   ]
  },
  {
   "cell_type": "markdown",
   "metadata": {},
   "source": [
    "![proj](q1.jpg)"
   ]
  },
  {
   "cell_type": "code",
   "execution_count": 7,
   "metadata": {},
   "outputs": [
    {
     "name": "stdout",
     "output_type": "stream",
     "text": [
      "the area of triangle shaded ingles: 16.314102431602805 cm^2\n"
     ]
    }
   ],
   "source": [
    "def area():\n",
    "    import math\n",
    "    r=1.5\n",
    "    s=3\n",
    "    area_circle=math.pi*(r**2)\n",
    "    area_triangle=(((math.sqrt(3))/4)*s**2)*6\n",
    "    area_shaded=area_triangle-area_circle\n",
    "    print(\"the area of triangle shaded ingles:\",area_shaded,\"cm^2\")\n",
    "area()"
   ]
  },
  {
   "cell_type": "markdown",
   "metadata": {},
   "source": [
    "Question 2: Create a function which can read a dictionary of your family members such as 5 members. \n",
    "1 Abbu, 1 Ammi, 2 Brothers 1 Sister. Now feed this data in dictionary in terms of name and relations.\n",
    "The UDF will ask findrelation() in this you will enter Brother it will return the names of two brothers you have inserted. In case if the relation is not found it will return “Sorry the relation doesn’t exist in your family.” \n"
   ]
  },
  {
   "cell_type": "code",
   "execution_count": 104,
   "metadata": {},
   "outputs": [
    {
     "ename": "SyntaxError",
     "evalue": "invalid syntax (<ipython-input-104-53cd93ca9bc5>, line 6)",
     "output_type": "error",
     "traceback": [
      "\u001b[1;36m  File \u001b[1;32m\"<ipython-input-104-53cd93ca9bc5>\"\u001b[1;36m, line \u001b[1;32m6\u001b[0m\n\u001b[1;33m    return reldict['ammi'])\u001b[0m\n\u001b[1;37m         ^\u001b[0m\n\u001b[1;31mSyntaxError\u001b[0m\u001b[1;31m:\u001b[0m invalid syntax\n"
     ]
    }
   ],
   "source": [
    "reldict={ 'abbu':'shahid','ammi':'nasreen','brother':'hassan','sisters':'raveen,imshal'}\n",
    "def findrelation():\n",
    "    ask=str(input(\"enter the family member:\")\n",
    "    for a in reldict\n",
    "            if a==ammi\n",
    "                return(reldict['ammi'])\n",
    "            elif a==abbu:\n",
    "                return(reldict['abbu'])\n",
    "            elif a==brother:\n",
    "                return(reldict['brother'])\n",
    "            elif a==sister:\n",
    "                return(reldict['sisters'])\n",
    "    else:\n",
    "            print(\"sorry relation doesnt exists\")\n",
    "findrelation()"
   ]
  },
  {
   "cell_type": "markdown",
   "metadata": {},
   "source": [
    "Question 3: Create a function to find the following:\n",
    "If the base of triangle is 5 cm long and its equilateral triangle and the radius of circle is 2.25 cm then find the area of triangle shaded. \n"
   ]
  },
  {
   "cell_type": "markdown",
   "metadata": {},
   "source": [
    "![proj](q3.jpg)"
   ]
  },
  {
   "cell_type": "code",
   "execution_count": 2,
   "metadata": {},
   "outputs": [
    {
     "name": "stdout",
     "output_type": "stream",
     "text": [
      "area of shaded area is: 15.904312808798327 cm^2\n"
     ]
    }
   ],
   "source": [
    "def area():\n",
    "    import math\n",
    "    area=(math.pi)*(2.25**2)\n",
    "    print(\"area of shaded area is:\",area,\"cm^2\")\n",
    "area()"
   ]
  },
  {
   "cell_type": "markdown",
   "metadata": {},
   "source": [
    "Question 4:\n",
    "Create a function that takes a list of random numbers from users and add only those which are even. If all the numbers are odd it will return sorry no even number found.\n"
   ]
  },
  {
   "cell_type": "code",
   "execution_count": 19,
   "metadata": {},
   "outputs": [
    {
     "name": "stdout",
     "output_type": "stream",
     "text": [
      "6\n",
      "8\n",
      "10\n",
      "12\n",
      "14\n",
      "16\n",
      "18\n",
      "20\n",
      "22\n",
      "24\n",
      "26\n",
      "28\n",
      "30\n",
      "32\n",
      "34\n",
      "36\n",
      "38\n",
      "40\n",
      "42\n",
      "44\n"
     ]
    }
   ],
   "source": [
    "def sum_even(i,f):\n",
    "    r=range(i,f)\n",
    "    for i in r:\n",
    "        SUM=0\n",
    "        if (i%2)==0:\n",
    "            SUM_EVEN=SUM+i\n",
    "            print(SUM_EVEN)\n",
    "sum_even(5,45)            "
   ]
  },
  {
   "cell_type": "markdown",
   "metadata": {},
   "source": [
    "Question 5:\n",
    "Write a function which can take a list of numbers and it will return sorted list.\n"
   ]
  },
  {
   "cell_type": "code",
   "execution_count": 24,
   "metadata": {},
   "outputs": [
    {
     "name": "stdout",
     "output_type": "stream",
     "text": [
      "[2, 3, 5, 6, 8, 8, 54]\n"
     ]
    }
   ],
   "source": [
    "def listsorter(list):\n",
    "    list.sort()\n",
    "    print(list)\n",
    "listsorter([2,5,6,8,54,3,8])"
   ]
  },
  {
   "cell_type": "markdown",
   "metadata": {},
   "source": [
    "Question 6:\n",
    "Write a function that will take the radius and return the perimeter and area of circle with 5% increment.\n"
   ]
  },
  {
   "cell_type": "code",
   "execution_count": 25,
   "metadata": {},
   "outputs": [
    {
     "name": "stdout",
     "output_type": "stream",
     "text": [
      "25.182741228718346 cm^2\n"
     ]
    }
   ],
   "source": [
    "def area(r):\n",
    "    import math\n",
    "    p=((2*math.pi)*r)+0.05\n",
    "    print(p,\"cm^2\")\n",
    "area(4)\n",
    "    "
   ]
  },
  {
   "cell_type": "markdown",
   "metadata": {},
   "source": [
    "Question 7:\n",
    "Write a function that will take the strings as argument and return number of vowels and consonants.\n"
   ]
  },
  {
   "cell_type": "code",
   "execution_count": 34,
   "metadata": {},
   "outputs": [
    {
     "name": "stdout",
     "output_type": "stream",
     "text": [
      "the number of consonants are: 1\n",
      "the number of vowels are: 1\n",
      "the number of vowels are: 1\n",
      "the number of consonants are: 1\n"
     ]
    }
   ],
   "source": [
    "def count(s):\n",
    "    for i in s:\n",
    "        if(i=='a' or i=='e' or i=='i' or i=='o' or i=='u'):\n",
    "            numbers=0\n",
    "            vowels=numbers+1\n",
    "            print('the number of vowels are:',vowels)\n",
    "        else:\n",
    "            numbers=0\n",
    "            consonants=numbers+1\n",
    "            print('the number of consonants are:',consonants)\n",
    "count('saim')"
   ]
  },
  {
   "cell_type": "markdown",
   "metadata": {},
   "source": [
    "Question 8:\n",
    "Write a function that will take length and breadth for a rectangle and return perimeter and area of rectangle with 8% increment.\n"
   ]
  },
  {
   "cell_type": "code",
   "execution_count": 35,
   "metadata": {},
   "outputs": [
    {
     "name": "stdout",
     "output_type": "stream",
     "text": [
      "the area of rectangle with 8% increment is: 30.08\n",
      "the parimeter of rectangle with 8% increment is: 22.08\n"
     ]
    }
   ],
   "source": [
    "def area(l,b):\n",
    "    area=(l*b)+0.08\n",
    "    print('the area of rectangle with 8% increment is:',area)\n",
    "def pari(l,b):\n",
    "    parimeter=(2*(l+b))+0.08\n",
    "    print('the parimeter of rectangle with 8% increment is:',parimeter)\n",
    "area(5,6)\n",
    "pari(5,6)"
   ]
  },
  {
   "cell_type": "markdown",
   "metadata": {},
   "source": [
    "Question 9:\n",
    "Write a function that can take the numbers in strings. From string find which number is even and which one is odd. Save them in two different lists and generate the result.\n"
   ]
  },
  {
   "cell_type": "code",
   "execution_count": 59,
   "metadata": {},
   "outputs": [
    {
     "ename": "TypeError",
     "evalue": "globals must be a real dict; try eval(expr, {}, mapping)",
     "output_type": "error",
     "traceback": [
      "\u001b[1;31m---------------------------------------------------------------------------\u001b[0m",
      "\u001b[1;31mTypeError\u001b[0m                                 Traceback (most recent call last)",
      "\u001b[1;32m<ipython-input-59-cd52219d9786>\u001b[0m in \u001b[0;36m<module>\u001b[1;34m\u001b[0m\n\u001b[0;32m      9\u001b[0m         \u001b[0mlst\u001b[0m\u001b[1;33m.\u001b[0m\u001b[0mappend\u001b[0m\u001b[1;33m(\u001b[0m\u001b[0mnum\u001b[0m\u001b[1;33m)\u001b[0m\u001b[1;33m\u001b[0m\u001b[1;33m\u001b[0m\u001b[0m\n\u001b[0;32m     10\u001b[0m         \u001b[0mprint\u001b[0m\u001b[1;33m(\u001b[0m\u001b[0mlst\u001b[0m\u001b[1;33m)\u001b[0m\u001b[1;33m\u001b[0m\u001b[1;33m\u001b[0m\u001b[0m\n\u001b[1;32m---> 11\u001b[1;33m \u001b[0mlstcrate\u001b[0m\u001b[1;33m(\u001b[0m\u001b[1;34m'two'\u001b[0m\u001b[1;33m,\u001b[0m\u001b[1;34m'three'\u001b[0m\u001b[1;33m,\u001b[0m\u001b[1;34m'four'\u001b[0m\u001b[1;33m,\u001b[0m\u001b[1;34m'five'\u001b[0m\u001b[1;33m,\u001b[0m\u001b[1;34m'eight'\u001b[0m\u001b[1;33m)\u001b[0m\u001b[1;33m\u001b[0m\u001b[1;33m\u001b[0m\u001b[0m\n\u001b[0m",
      "\u001b[1;32m<ipython-input-59-cd52219d9786>\u001b[0m in \u001b[0;36mlstcrate\u001b[1;34m(s, t, u, v, w)\u001b[0m\n\u001b[0;32m      1\u001b[0m \u001b[1;32mdef\u001b[0m \u001b[0mlstcrate\u001b[0m\u001b[1;33m(\u001b[0m\u001b[0ms\u001b[0m\u001b[1;33m,\u001b[0m\u001b[0mt\u001b[0m\u001b[1;33m,\u001b[0m\u001b[0mu\u001b[0m\u001b[1;33m,\u001b[0m\u001b[0mv\u001b[0m\u001b[1;33m,\u001b[0m\u001b[0mw\u001b[0m\u001b[1;33m)\u001b[0m\u001b[1;33m:\u001b[0m\u001b[1;33m\u001b[0m\u001b[1;33m\u001b[0m\u001b[0m\n\u001b[1;32m----> 2\u001b[1;33m     \u001b[0mnum\u001b[0m\u001b[1;33m=\u001b[0m\u001b[0meval\u001b[0m\u001b[1;33m(\u001b[0m\u001b[0ms\u001b[0m\u001b[1;33m,\u001b[0m\u001b[0mt\u001b[0m\u001b[1;33m,\u001b[0m\u001b[0mu\u001b[0m\u001b[1;33m,\u001b[0m\u001b[1;33m)\u001b[0m\u001b[1;33m\u001b[0m\u001b[1;33m\u001b[0m\u001b[0m\n\u001b[0m\u001b[0;32m      3\u001b[0m     \u001b[0mnum1\u001b[0m\u001b[1;33m=\u001b[0m\u001b[0meval\u001b[0m\u001b[1;33m(\u001b[0m\u001b[0mv\u001b[0m\u001b[1;33m,\u001b[0m\u001b[0mw\u001b[0m\u001b[1;33m)\u001b[0m\u001b[1;33m\u001b[0m\u001b[1;33m\u001b[0m\u001b[0m\n\u001b[0;32m      4\u001b[0m     \u001b[0mlst\u001b[0m\u001b[1;33m=\u001b[0m\u001b[1;33m[\u001b[0m\u001b[1;33m]\u001b[0m\u001b[1;33m\u001b[0m\u001b[1;33m\u001b[0m\u001b[0m\n\u001b[0;32m      5\u001b[0m     \u001b[1;32mif\u001b[0m \u001b[0mnum\u001b[0m\u001b[1;33m%\u001b[0m\u001b[1;36m2\u001b[0m\u001b[1;33m==\u001b[0m\u001b[1;36m0\u001b[0m \u001b[1;32mor\u001b[0m \u001b[0mnum1\u001b[0m\u001b[1;33m%\u001b[0m\u001b[1;36m2\u001b[0m\u001b[1;33m==\u001b[0m\u001b[1;36m0\u001b[0m\u001b[1;33m:\u001b[0m\u001b[1;33m\u001b[0m\u001b[1;33m\u001b[0m\u001b[0m\n",
      "\u001b[1;31mTypeError\u001b[0m: globals must be a real dict; try eval(expr, {}, mapping)"
     ]
    }
   ],
   "source": [
    "def lstcrate(s,t,u,v,w):\n",
    "    num=eval(s,t,u,)\n",
    "    num1=eval(v,w)\n",
    "    lst=[]\n",
    "    if num%2==0 or num1%2==0:\n",
    "        lst.append(num)\n",
    "        print(lst)\n",
    "    else:\n",
    "        lst.append(num)\n",
    "        print(lst)\n",
    "lstcrate('two','three','four','five','eight')   "
   ]
  },
  {
   "cell_type": "markdown",
   "metadata": {},
   "source": [
    "Question 10:\n",
    "Write a function which will take the string from the user and return how many alphabets have been used in it and which alphabets are missing.\n"
   ]
  },
  {
   "cell_type": "code",
   "execution_count": 62,
   "metadata": {},
   "outputs": [
    {
     "name": "stdout",
     "output_type": "stream",
     "text": [
      "the alphabets used are saim\n",
      "the alphabets  not used are: 22\n"
     ]
    }
   ],
   "source": [
    "def alphcount(s):\n",
    "    l1=len(s)\n",
    "    print('the alphabets used are',s[:l1])\n",
    "    l2=26-l1\n",
    "    print('the alphabets  not used are:',l2)\n",
    "alphcount('saim')"
   ]
  },
  {
   "cell_type": "markdown",
   "metadata": {},
   "source": [
    "Question 11:\n",
    "Write a function that will take verbs in words and return a list of verbs with continuous tense by adding (ing) at the end of each verb.\n"
   ]
  },
  {
   "cell_type": "code",
   "execution_count": 63,
   "metadata": {},
   "outputs": [
    {
     "name": "stdout",
     "output_type": "stream",
     "text": [
      "['runing', 'eating', 'killing']\n"
     ]
    }
   ],
   "source": [
    "def continous(a,b,c):\n",
    "    cont1=a + \"ing\"\n",
    "    cont2=b + \"ing\"\n",
    "    cont3=c + \"ing\"\n",
    "    lst=[cont1,cont2,cont3]\n",
    "    print(lst)\n",
    "continous('run','eat','kill')"
   ]
  },
  {
   "cell_type": "markdown",
   "metadata": {},
   "source": [
    "Question 12:\n",
    "Make a function which can take two radius of circles and find the areas of it and subtract smaller one from larger one and tell the remaining area of circle.\n"
   ]
  },
  {
   "cell_type": "code",
   "execution_count": 65,
   "metadata": {},
   "outputs": [
    {
     "name": "stdout",
     "output_type": "stream",
     "text": [
      "28.27433388230814 cm^2\n"
     ]
    }
   ],
   "source": [
    "def area(r1,r2):\n",
    "    import math\n",
    "    a1=(math.pi)*r1**2\n",
    "    a2=(math.pi)*r2**2\n",
    "    if a1>a2:\n",
    "        at=a1-a2\n",
    "        print(at,\"cm^2\")\n",
    "    else:\n",
    "        at=a2-a1\n",
    "        print(at,\"cm^2\")\n",
    "area(4,5)"
   ]
  },
  {
   "cell_type": "markdown",
   "metadata": {},
   "source": [
    "Question 13:\n",
    "Write a function that will take a string and calculate number of Upper case letters and lower case letters.\n"
   ]
  },
  {
   "cell_type": "code",
   "execution_count": 15,
   "metadata": {},
   "outputs": [
    {
     "ename": "IndentationError",
     "evalue": "unexpected indent (<ipython-input-15-8f07cc67cff2>, line 9)",
     "output_type": "error",
     "traceback": [
      "\u001b[1;36m  File \u001b[1;32m\"<ipython-input-15-8f07cc67cff2>\"\u001b[1;36m, line \u001b[1;32m9\u001b[0m\n\u001b[1;33m    elif(i.isupper()):\u001b[0m\n\u001b[1;37m    ^\u001b[0m\n\u001b[1;31mIndentationError\u001b[0m\u001b[1;31m:\u001b[0m unexpected indent\n"
     ]
    }
   ],
   "source": [
    "def casecount(string):\n",
    "    for i in string:\n",
    "        if(i.islower()):\n",
    "            count1=0\n",
    "            count1=count1+1\n",
    "    print('the number of lowwer case characters is:')\n",
    "    print(count1)\n",
    "        \n",
    "        elif(i.isupper()):\n",
    "            count2=0\n",
    "            count2=count2+1\n",
    "    print(\"The number of uppercase characters is:\")\n",
    "    print(count2)\n",
    "casecount('My Name Is Saim')"
   ]
  },
  {
   "cell_type": "markdown",
   "metadata": {},
   "source": [
    "Question 14:\n",
    "Write a function which will take length and breadth of two rectangles. Subtract the smaller rectangle from the larger rectangle and return the area left behind.\n"
   ]
  },
  {
   "cell_type": "code",
   "execution_count": 16,
   "metadata": {},
   "outputs": [
    {
     "name": "stdout",
     "output_type": "stream",
     "text": [
      "1 cm^2\n"
     ]
    }
   ],
   "source": [
    "def area(l1,b1,l2,b2):\n",
    "    import math\n",
    "    a1=l1*b1\n",
    "    a2=l2*b2\n",
    "    if a1>a2:\n",
    "        at=a1-a2\n",
    "        print(at,\"cm^2\")\n",
    "    else:\n",
    "        at=a2-a1\n",
    "        print(at,\"cm^2\")\n",
    "area(5,3,7,2)"
   ]
  },
  {
   "cell_type": "markdown",
   "metadata": {},
   "source": [
    "Question 15:\n",
    "Create a function that can add the fractions in series such as 1 to 8 = 1/8+1/7+1/6+1/5 …… ½ and return the result in fraction not in decimal.\n"
   ]
  },
  {
   "cell_type": "code",
   "execution_count": 90,
   "metadata": {},
   "outputs": [
    {
     "name": "stdout",
     "output_type": "stream",
     "text": [
      "the sum of fraction is: 8862440695289797/4503599627370496\n"
     ]
    }
   ],
   "source": [
    "def add(a,b,c,d,e,f,g):\n",
    "    from fractions import Fraction\n",
    "    ad=(a+b+c+d+e+f+g)\n",
    "    ad2=Fraction(ad)\n",
    "    print('the sum of fraction is:',ad2)\n",
    "add(1/2,1/3,2/4,1/5,1/6,1/7,1/8)"
   ]
  },
  {
   "cell_type": "markdown",
   "metadata": {},
   "source": [
    "Question 16:\n",
    "Write a function which will take height and base for a triangle and \n"
   ]
  },
  {
   "cell_type": "code",
   "execution_count": null,
   "metadata": {},
   "outputs": [],
   "source": []
  },
  {
   "cell_type": "markdown",
   "metadata": {},
   "source": [
    "Question 17:\n",
    "Write a function which will take a list of fruits names. The function will return how many alphabets are repetitive in the names of fruits and how many are unique letters.\n"
   ]
  },
  {
   "cell_type": "code",
   "execution_count": 10,
   "metadata": {},
   "outputs": [
    {
     "name": "stdout",
     "output_type": "stream",
     "text": [
      "the alphabet which are repetative are: mangoapplepomogrenateorangelemonx\n"
     ]
    }
   ],
   "source": [
    "def rep(lst):\n",
    "    for i in lst:\n",
    "        lst.count(i)\n",
    "        if lst.count(i)>0:\n",
    "            print('the alphabet which are repetative are:',i)\n",
    "        elif lst.count(i)==0:\n",
    "            print('the alphabets which unique are:',i)\n",
    "rep(['mangoapplepomogrenateorangelemonx'])"
   ]
  },
  {
   "cell_type": "markdown",
   "metadata": {},
   "source": [
    "Question 18:\n",
    "Write a function that can take square length and radius of circle. Find the area of both and subtract the smallest shape from largest one and return the remaining shape area.\n"
   ]
  },
  {
   "cell_type": "code",
   "execution_count": 91,
   "metadata": {},
   "outputs": [
    {
     "name": "stdout",
     "output_type": "stream",
     "text": [
      "62.53981633974483 cm^2\n"
     ]
    }
   ],
   "source": [
    "def area(l,r):\n",
    "    import math\n",
    "    a1=(math.pi)*r**2\n",
    "    a2=l**2\n",
    "    if a1>a2:\n",
    "        at=a1-a2\n",
    "        print(at,\"cm^2\")\n",
    "    else:\n",
    "        at=a2-a1\n",
    "        print(at,\"cm^2\")\n",
    "area(4,5)"
   ]
  },
  {
   "cell_type": "code",
   "execution_count": null,
   "metadata": {},
   "outputs": [],
   "source": []
  }
 ],
 "metadata": {
  "kernelspec": {
   "display_name": "Python 3",
   "language": "python",
   "name": "python3"
  },
  "language_info": {
   "codemirror_mode": {
    "name": "ipython",
    "version": 3
   },
   "file_extension": ".py",
   "mimetype": "text/x-python",
   "name": "python",
   "nbconvert_exporter": "python",
   "pygments_lexer": "ipython3",
   "version": "3.7.3"
  }
 },
 "nbformat": 4,
 "nbformat_minor": 2
}
